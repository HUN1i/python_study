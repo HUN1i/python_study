import pandas as pd
from sentence_transformers import SentenceTransformer
from sklearn.metrics.pairwise import cosine_similarity

model = SentenceTransformer('jhgan/ko-sroberta-multitask')

sentences = ["학교가 어디인가요?",'저는 부산소마고에 다니고 있습니다.']
embeddings = model.encode(sentences)
print(embeddings)

df['embedding'] = df[' 질문'].map(lambda x:list(model.encode(x)))

df.head
